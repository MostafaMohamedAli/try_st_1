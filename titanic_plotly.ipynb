{
 "cells": [
  {
   "cell_type": "markdown",
   "metadata": {},
   "source": [
    "# TITANIC SURVIVAL PREDICTION PROJECT"
   ]
  },
  {
   "cell_type": "code",
   "execution_count": null,
   "metadata": {},
   "outputs": [],
   "source": [
    "!conda install conda-forge::streamlit -y\n",
    "conda install anaconda::joblib -y"
   ]
  },
  {
   "cell_type": "markdown",
   "metadata": {},
   "source": [
    "## Import libraries"
   ]
  },
  {
   "cell_type": "code",
   "execution_count": null,
   "metadata": {},
   "outputs": [],
   "source": [
    "import pandas as pd\n",
    "import numpy as np\n",
    "import plotly.express as px\n",
    "import plotly.graph_objects as go\n",
    "from plotly.subplots import make_subplots\n",
    "from scipy.stats import gaussian_kde\n",
    "from sklearn.preprocessing import StandardScaler, OneHotEncoder\n",
    "from sklearn.compose import ColumnTransformer\n",
    "from sklearn.pipeline import Pipeline\n",
    "from sklearn.model_selection import train_test_split\n",
    "from sklearn.linear_model import LogisticRegression\n",
    "from sklearn.metrics import accuracy_score, confusion_matrix, classification_report\n",
    "import joblib\n",
    "import streamlit as st\n"
   ]
  },
  {
   "cell_type": "markdown",
   "metadata": {},
   "source": [
    "## 1. Data Loading & Exploration"
   ]
  },
  {
   "cell_type": "code",
   "execution_count": null,
   "metadata": {},
   "outputs": [],
   "source": [
    "url = \"https://web.stanford.edu/class/archive/cs/cs109/cs109.1166/stuff/titanic.csv\"\n",
    "df = pd.read_csv(url)\n",
    "\n",
    "print(\"=== Initial Exploration ===\")\n",
    "print(\"Shape:\", df.shape)\n",
    "print(\"\\nFirst 5 rows:\")\n",
    "display(df.head())\n",
    "print(\"\\nInfo:\")\n",
    "df.info()\n",
    "print(\"\\nSummary stats:\")\n",
    "display(df.describe(include='all'))\n"
   ]
  },
  {
   "cell_type": "markdown",
   "metadata": {},
   "source": [
    "## 2. Univariate & Multivariate Analysis"
   ]
  },
  {
   "cell_type": "code",
   "execution_count": null,
   "metadata": {},
   "outputs": [],
   "source": [
    "# Create a 2x2 subplot grid with Plotly\n",
    "fig = make_subplots(rows=2, cols=2, subplot_titles=('Survival Distribution', 'Age Distribution', 'Fare Distribution', 'Correlation Matrix'))\n",
    "\n",
    "# Survival count plot (replacing sns.countplot)\n",
    "survived_counts = df['Survived'].value_counts()\n",
    "fig.add_trace(\n",
    "    go.Bar(x=['Did not survive', 'Survived'], y=[survived_counts.get(0, 0), survived_counts.get(1, 0)], name='Survived'),\n",
    "    row=1, col=1\n",
    ")\n",
    "\n",
    "# Age distribution with histogram and KDE (replacing sns.histplot)\n",
    "age = df['Age'].dropna()\n",
    "kde = gaussian_kde(age)\n",
    "x = np.linspace(age.min(), age.max(), 100)\n",
    "kde_values = kde(x)\n",
    "fig.add_trace(\n",
    "    go.Histogram(x=age, nbinsx=30, histnorm='probability density', name='Age'),\n",
    "    row=1, col=2\n",
    ")\n",
    "fig.add_trace(\n",
    "    go.Scatter(x=x, y=kde_values, mode='lines', name='KDE'),\n",
    "    row=1, col=2\n",
    ")\n",
    "\n",
    "# Fare boxplot (replacing sns.boxplot)\n",
    "fig.add_trace(\n",
    "    go.Box(x=df['Fare'], name='Fare'),\n",
    "    row=2, col=1\n",
    ")\n",
    "\n",
    "# Correlation heatmap (replacing sns.heatmap)\n",
    "corr_matrix = df.select_dtypes(include=[np.number]).corr()\n",
    "fig.add_trace(\n",
    "    go.Heatmap(z=corr_matrix.values, x=corr_matrix.columns, y=corr_matrix.columns, colorscale='RdBu'),\n",
    "    row=2, col=2\n",
    ")\n",
    "\n",
    "# Update layout and display\n",
    "fig.update_layout(height=800, width=800, title_text=\"Univariate and Multivariate Analysis\")\n",
    "fig.show()"
   ]
  },
  {
   "cell_type": "markdown",
   "metadata": {},
   "source": [
    "## 3. Data Assessment"
   ]
  },
  {
   "cell_type": "code",
   "execution_count": null,
   "metadata": {},
   "outputs": [],
   "source": [
    "print(\"\\n=== Data Quality Issues ===\")\n",
    "print(\"Missing values:\")\n",
    "print(df.isnull().sum()[df.isnull().sum() > 0])\n",
    "print(\"\\nDuplicate rows:\", df.duplicated().sum())"
   ]
  },
  {
   "cell_type": "markdown",
   "metadata": {},
   "source": [
    "## 4. Data Cleaning"
   ]
  },
  {
   "cell_type": "code",
   "execution_count": null,
   "metadata": {},
   "outputs": [],
   "source": [
    "# Handle missing values\n",
    "df['Age'].fillna(df['Age'].median(), inplace=True)\n",
    "df['Embarked'].fillna(df['Embarked'].mode()[0], inplace=True)\n",
    "df.drop('Cabin', axis=1, inplace=True)\n",
    "\n",
    "# Handle outliers\n",
    "Q1 = df['Fare'].quantile(0.25)\n",
    "Q3 = df['Fare'].quantile(0.75)\n",
    "IQR = Q3 - Q1\n",
    "df = df[(df['Fare'] >= Q1 - 1.5*IQR) & (df['Fare'] <= Q3 + 1.5*IQR)]\n",
    "\n",
    "# Drop duplicates\n",
    "df.drop_duplicates(inplace=True)\n",
    "\n",
    "print(\"\\nAfter cleaning:\")\n",
    "print(\"Missing values remaining:\", df.isnull().sum().sum())\n",
    "print(\"New shape:\", df.shape)"
   ]
  },
  {
   "cell_type": "markdown",
   "metadata": {},
   "source": [
    "## 5. Post-Cleaning Visualization"
   ]
  },
  {
   "cell_type": "code",
   "execution_count": null,
   "metadata": {},
   "outputs": [],
   "source": [
    "# Create a 1x2 subplot grid with Plotly\n",
    "fig2 = make_subplots(rows=1, cols=2, subplot_titles=('Updated Correlation Matrix', 'Survival by Passenger Class'))\n",
    "\n",
    "# Updated correlation heatmap (replacing sns.heatmap)\n",
    "corr_matrix_clean = df.select_dtypes(include=[np.number]).corr()\n",
    "fig2.add_trace(\n",
    "    go.Heatmap(z=corr_matrix_clean.values, x=corr_matrix_clean.columns, y=corr_matrix_clean.columns, colorscale='viridis'),\n",
    "    row=1, col=1\n",
    ")\n",
    "\n",
    "# Survival by Pclass grouped bar chart (replacing sns.countplot with hue)\n",
    "survival_by_pclass = df.groupby('Pclass')['Survived'].value_counts().unstack().fillna(0)\n",
    "fig2.add_trace(\n",
    "    go.Bar(x=survival_by_pclass.index, y=survival_by_pclass[0], name='Did not survive'),\n",
    "    row=1, col=2\n",
    ")\n",
    "fig2.add_trace(\n",
    "    go.Bar(x=survival_by_pclass.index, y=survival_by_pclass[1], name='Survived'),\n",
    "    row=1, col=2\n",
    ")\n",
    "\n",
    "# Update layout with grouped bars and display\n",
    "fig2.update_layout(barmode='group', height=400, width=800, title_text=\"Post-Cleaning Visualizations\")\n",
    "fig2.show()"
   ]
  },
  {
   "cell_type": "markdown",
   "metadata": {},
   "source": [
    "## 6. Data Preprocessing"
   ]
  },
  {
   "cell_type": "code",
   "execution_count": null,
   "metadata": {},
   "outputs": [],
   "source": [
    "# Feature engineering\n",
    "df['FamilySize'] = df['SibSp'] + df['Parch']\n",
    "\n",
    "# Define features and target\n",
    "X = df[['Pclass', 'Sex', 'Age', 'Fare', 'Embarked', 'FamilySize']]\n",
    "y = df['Survived']\n",
    "\n",
    "# Preprocessing pipeline\n",
    "preprocessor = ColumnTransformer(\n",
    "    transformers=[\n",
    "        ('num', StandardScaler(), ['Age', 'Fare', 'FamilySize']),\n",
    "        ('cat', OneHotEncoder(), ['Pclass', 'Sex', 'Embarked'])\n",
    "    ])\n",
    "\n",
    "X_train, X_test, y_train, y_test = train_test_split(X, y, test_size=0.2, random_state=42)"
   ]
  },
  {
   "cell_type": "markdown",
   "metadata": {},
   "source": [
    "## 7. Model Training"
   ]
  },
  {
   "cell_type": "code",
   "execution_count": null,
   "metadata": {},
   "outputs": [],
   "source": [
    "model = LogisticRegression(max_iter=1000)\n",
    "model.fit(preprocessor.fit_transform(X_train), y_train)"
   ]
  },
  {
   "cell_type": "markdown",
   "metadata": {},
   "source": [
    "## 8. Model Evaluation"
   ]
  },
  {
   "cell_type": "code",
   "execution_count": null,
   "metadata": {},
   "outputs": [],
   "source": [
    "y_pred = model.predict(preprocessor.transform(X_test))\n",
    "\n",
    "print(\"\\n=== Model Performance ===\")\n",
    "print(f\"Accuracy: {accuracy_score(y_test, y_pred):.2f}\")\n",
    "print(\"\\nConfusion Matrix:\")\n",
    "print(confusion_matrix(y_test, y_pred))\n",
    "print(\"\\nClassification Report:\")\n",
    "print(classification_report(y_test, y_pred))"
   ]
  },
  {
   "cell_type": "markdown",
   "metadata": {},
   "source": [
    "## 9. Model Saving"
   ]
  },
  {
   "cell_type": "code",
   "execution_count": null,
   "metadata": {},
   "outputs": [],
   "source": [
    "joblib.dump(model, 'titanic_model.pkl')\n",
    "joblib.dump(preprocessor, 'preprocessor.pkl')"
   ]
  },
  {
   "cell_type": "markdown",
   "metadata": {},
   "source": [
    "## STREAMLIT DEPLOYMENT CODE"
   ]
  },
  {
   "cell_type": "code",
   "execution_count": null,
   "metadata": {},
   "outputs": [],
   "source": [
    "%%writefile st_app.py\n",
    "\n",
    "\n",
    "import streamlit as st\n",
    "import joblib\n",
    "import pandas as pd\n",
    "\n",
    "# Load artifacts\n",
    "model = joblib.load('titanic_model.pkl')\n",
    "preprocessor = joblib.load('preprocessor.pkl')\n",
    "\n",
    "# App interface\n",
    "st.title('Titanic Survival Predictor')\n",
    "\n",
    "# Input widgets\n",
    "col1, col2 = st.columns(2)\n",
    "with col1:\n",
    "    pclass = st.selectbox('Passenger Class', [1, 2, 3])\n",
    "    sex = st.selectbox('Sex', ['male', 'female'])\n",
    "    age = st.number_input('Age', min_value=0, max_value=100, value=30)\n",
    "    \n",
    "with col2:\n",
    "    fare = st.number_input('Fare', min_value=0, value=50)\n",
    "    embarked = st.selectbox('Embarked', ['C', 'Q', 'S'])\n",
    "    family_size = st.number_input('Family Size', min_value=0, max_value=10, value=0)\n",
    "\n",
    "# Prediction logic\n",
    "if st.button('Predict Survival'):\n",
    "    input_data = pd.DataFrame([[pclass, sex, age, fare, embarked, family_size]],\n",
    "                            columns=['Pclass', 'Sex', 'Age', 'Fare', 'Embarked', 'FamilySize'])\n",
    "    \n",
    "    processed_data = preprocessor.transform(input_data)\n",
    "    prediction = model.predict(processed_data)[0]\n",
    "    probability = model.predict_proba(processed_data)[0][1]\n",
    "    \n",
    "    st.subheader('Result')\n",
    "    st.metric(\"Survival Probability\", f\"{probability:.1%}\")\n",
    "    st.write(f\"Prediction: {'Survived' if prediction == 1 else 'Did not survive'}\")\n",
    "\n",
    "\n",
    "# print(\"\\n=== Streamlit App Code ===\")\n",
    "# print(\"Save this as 'app.py' and run with: streamlit run app.py\")\n",
    "# print(streamlit_code)"
   ]
  }
 ],
 "metadata": {
  "kernelspec": {
   "display_name": "depi_env",
   "language": "python",
   "name": "python3"
  },
  "language_info": {
   "name": "python",
   "version": "3.10.14"
  }
 },
 "nbformat": 4,
 "nbformat_minor": 2
}
